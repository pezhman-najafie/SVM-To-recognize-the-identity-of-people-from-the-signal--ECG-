{
 "cells": [
  {
   "cell_type": "code",
   "execution_count": 1,
   "metadata": {
    "collapsed": true
   },
   "outputs": [
    {
     "name": "stdout",
     "output_type": "stream",
     "text": [
      "Best parameters for linear model: {'C': 100}\n",
      "Linear LSSVM Model Accuracy: 31.95955944358203\n",
      "Best parameters for non-linear model: {'C': 10, 'gamma': 1}\n",
      "Non-linear LSSVM Model Accuracy: 59.57217278142508\n"
     ]
    }
   ],
   "source": [
    "from sklearn.svm import SVR\n",
    "from sklearn.model_selection import train_test_split, GridSearchCV\n",
    "from sklearn.preprocessing import StandardScaler\n",
    "import scipy.io\n",
    "import numpy as np\n",
    "\n",
    "# Load the data from the .mat file\n",
    "data = scipy.io.loadmat(r'C:\\Users\\pezhm\\Desktop\\DESK\\ta\\1.mat')\n",
    "\n",
    "# Extract training data and labels\n",
    "X = data['Data_Train_ML']\n",
    "y = data['Label_Train_ML'].ravel()\n",
    "\n",
    "# Split the data into training and test sets\n",
    "X_train, X_test, y_train, y_test = train_test_split(X, y, test_size=0.2, random_state=42)\n",
    "\n",
    "# Standardize the data\n",
    "scaler = StandardScaler()\n",
    "X_train = scaler.fit_transform(X_train)\n",
    "X_test = scaler.transform(X_test)\n",
    "\n",
    "# Define the parameter grid for the linear model\n",
    "param_grid_linear = {'C': [0.01, 0.1, 1, 10, 100]}\n",
    "\n",
    "# Define the linear LSSVM model with GridSearchCV\n",
    "lssvm_linear_model = GridSearchCV(SVR(kernel='linear'), param_grid_linear, cv=5, scoring='r2')\n",
    "lssvm_linear_model.fit(X_train, y_train)\n",
    "\n",
    "# Calculate accuracy on test set\n",
    "linear_accuracy = lssvm_linear_model.score(X_test, y_test)\n",
    "print(\"Best parameters for linear model:\", lssvm_linear_model.best_params_)\n",
    "print(\"Linear LSSVM Model Accuracy:\", linear_accuracy * 100)\n",
    "\n",
    "# Define the parameter grid for the non-linear model\n",
    "param_grid_nonlinear = {\n",
    "    'C': [0.01, 0.1, 1, 10, 100],\n",
    "    'gamma': [0.01, 0.1, 1, 10, 100]\n",
    "}\n",
    "\n",
    "# Define the non-linear LSSVM model with GridSearchCV\n",
    "lssvm_nonlinear_model = GridSearchCV(SVR(kernel='rbf'), param_grid_nonlinear, cv=5, scoring='r2')\n",
    "lssvm_nonlinear_model.fit(X_train, y_train)\n",
    "\n",
    "# Calculate accuracy on test set\n",
    "nonlinear_accuracy = lssvm_nonlinear_model.score(X_test, y_test)\n",
    "print(\"Best parameters for non-linear model:\", lssvm_nonlinear_model.best_params_)\n",
    "print(\"Non-linear LSSVM Model Accuracy:\", nonlinear_accuracy * 100)\n",
    "\n"
   ]
  },
  {
   "cell_type": "code",
   "execution_count": null,
   "outputs": [],
   "source": [],
   "metadata": {
    "collapsed": false,
    "pycharm": {
     "name": "#%%\n"
    }
   }
  }
 ],
 "metadata": {
  "kernelspec": {
   "display_name": "Python 3",
   "language": "python",
   "name": "python3"
  },
  "language_info": {
   "codemirror_mode": {
    "name": "ipython",
    "version": 2
   },
   "file_extension": ".py",
   "mimetype": "text/x-python",
   "name": "python",
   "nbconvert_exporter": "python",
   "pygments_lexer": "ipython2",
   "version": "2.7.6"
  }
 },
 "nbformat": 4,
 "nbformat_minor": 0
}