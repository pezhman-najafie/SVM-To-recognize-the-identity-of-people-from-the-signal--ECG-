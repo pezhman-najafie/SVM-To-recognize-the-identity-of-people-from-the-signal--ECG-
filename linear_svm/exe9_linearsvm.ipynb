{
 "cells": [
  {
   "cell_type": "code",
   "execution_count": 1,
   "metadata": {
    "collapsed": true
   },
   "outputs": [
    {
     "name": "stdout",
     "output_type": "stream",
     "text": [
      "Best parameters: {'C': 100}\n",
      "Model accuracy on test set: 81.25\n"
     ]
    },
    {
     "name": "stderr",
     "output_type": "stream",
     "text": [
      "C:\\Users\\pezhm\\PycharmProjects\\pythonProject1\\venv\\lib\\site-packages\\sklearn\\model_selection\\_split.py:776: UserWarning: The least populated class in y has only 1 members, which is less than n_splits=5.\n",
      "  warnings.warn(\n"
     ]
    }
   ],
   "source": [
    "from sklearn.model_selection import train_test_split, GridSearchCV\n",
    "from sklearn import svm\n",
    "import scipy.io\n",
    "\n",
    "# Load the data from the .mat file\n",
    "data = scipy.io.loadmat(r'C:\\Users\\pezhm\\Desktop\\DESK\\ta\\1.mat')\n",
    "\n",
    "# Extract training data and labels\n",
    "X = data['Data_Train_ML']\n",
    "y = data['Label_Train_ML'].ravel()\n",
    "\n",
    "# Split the data into training and test sets\n",
    "X_train, X_test, y_train, y_test = train_test_split(X, y, test_size=0.2, random_state=42)\n",
    "\n",
    "# Define the SVM model with linear kernel\n",
    "svm_model = svm.SVC(kernel='linear')\n",
    "\n",
    "# Define the parameter space for grid search\n",
    "param_grid = {'C': [0.1, 1, 10, 100]}\n",
    "\n",
    "# Perform grid search using accuracy as the scoring metric\n",
    "grid_search = GridSearchCV(svm_model, param_grid, cv=5, scoring='accuracy')\n",
    "\n",
    "# Train the model with grid search\n",
    "grid_search.fit(X_train, y_train)\n",
    "\n",
    "# Report the best parameters\n",
    "print(\"Best parameters:\", grid_search.best_params_)\n",
    "\n",
    "# Report the best model accuracy on the test set\n",
    "best_model = grid_search.best_estimator_\n",
    "test_accuracy = best_model.score(X_test, y_test)\n",
    "\n",
    "print(\"Model accuracy on test set:\", test_accuracy * 100)"
   ]
  },
  {
   "cell_type": "code",
   "execution_count": null,
   "outputs": [],
   "source": [],
   "metadata": {
    "collapsed": false,
    "pycharm": {
     "name": "#%%\n"
    }
   }
  }
 ],
 "metadata": {
  "kernelspec": {
   "display_name": "Python 3",
   "language": "python",
   "name": "python3"
  },
  "language_info": {
   "codemirror_mode": {
    "name": "ipython",
    "version": 2
   },
   "file_extension": ".py",
   "mimetype": "text/x-python",
   "name": "python",
   "nbconvert_exporter": "python",
   "pygments_lexer": "ipython2",
   "version": "2.7.6"
  }
 },
 "nbformat": 4,
 "nbformat_minor": 0
}