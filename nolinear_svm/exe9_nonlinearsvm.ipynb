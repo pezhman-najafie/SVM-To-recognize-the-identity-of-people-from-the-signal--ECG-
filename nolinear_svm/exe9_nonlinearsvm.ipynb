{
 "cells": [
  {
   "cell_type": "code",
   "execution_count": 1,
   "metadata": {
    "collapsed": true
   },
   "outputs": [
    {
     "name": "stderr",
     "output_type": "stream",
     "text": [
      "C:\\Users\\pezhm\\PycharmProjects\\pythonProject1\\venv\\lib\\site-packages\\sklearn\\model_selection\\_split.py:776: UserWarning: The least populated class in y has only 1 members, which is less than n_splits=5.\n",
      "  warnings.warn(\n"
     ]
    },
    {
     "name": "stdout",
     "output_type": "stream",
     "text": [
      "Best parameters: {'C': 1, 'coef0': 0.5, 'degree': 2, 'gamma': 1, 'kernel': 'poly'}\n",
      "Model accuracy on test set: 75.0\n"
     ]
    }
   ],
   "source": [
    "from sklearn.model_selection import train_test_split, GridSearchCV\n",
    "from sklearn import svm\n",
    "import scipy.io\n",
    "from sklearn.preprocessing import StandardScaler\n",
    "\n",
    "# Load the data from the .mat file\n",
    "data = scipy.io.loadmat(r'C:\\Users\\pezhm\\Desktop\\DESK\\ta\\1.mat')\n",
    "\n",
    "# Extract training data and labels\n",
    "X = data['Data_Train_ML']\n",
    "y = data['Label_Train_ML'].ravel()\n",
    "\n",
    "# Split the data into training and test sets\n",
    "X_train, X_test, y_train, y_test = train_test_split(X, y, test_size=0.2, random_state=42)\n",
    "\n",
    "# Standardize the data\n",
    "scaler = StandardScaler()\n",
    "X_train = scaler.fit_transform(X_train)\n",
    "X_test = scaler.transform(X_test)\n",
    "\n",
    "# Define the SVM model\n",
    "svm_model = svm.SVC()\n",
    "\n",
    "# Define the parameter space for grid search\n",
    "param_grid = {\n",
    "    'C': [0.1, 1, 10, 100, 1000],\n",
    "    'kernel': ['poly', 'rbf', 'sigmoid'],\n",
    "    'degree': [2, 3, 4, 5],  # For polynomial kernel\n",
    "    'gamma': ['scale', 'auto', 0.1, 1, 10],  # For rbf and sigmoid kernels\n",
    "    'coef0': [0.0, 0.1, 0.5, 1.0]  # For poly and sigmoid kernels\n",
    "}\n",
    "\n",
    "# Perform grid search using accuracy as the scoring metric\n",
    "grid_search = GridSearchCV(svm_model, param_grid, cv=5, scoring='accuracy')\n",
    "\n",
    "# Train the model with grid search\n",
    "grid_search.fit(X_train, y_train)\n",
    "\n",
    "# Report the best parameters\n",
    "print(\"Best parameters:\", grid_search.best_params_)\n",
    "\n",
    "# Calculate accuracy on the test set\n",
    "best_model = grid_search.best_estimator_\n",
    "test_accuracy = best_model.score(X_test, y_test)\n",
    "\n",
    "print(\"Model accuracy on test set:\", test_accuracy * 100)"
   ]
  },
  {
   "cell_type": "code",
   "execution_count": null,
   "outputs": [],
   "source": [
    "from sklearn.decomposition import PCA\n",
    "from sklearn.model_selection import GridSearchCV\n",
    "\n",
    "# Apply PCA\n",
    "pca = PCA(n_components=0.95)  # Keep 95% of the variance\n",
    "X_train_pca = pca.fit_transform(X_train)\n",
    "X_test_pca = pca.transform(X_test)\n",
    "\n",
    "# Define the parameter space for grid search\n",
    "param_grid = {\n",
    "    'C': [0.1, 1, 10, 100, 1000],\n",
    "    'kernel': ['poly', 'rbf', 'sigmoid'],\n",
    "    'degree': [2, 3, 4, 5],  # For polynomial kernel\n",
    "    'gamma': ['scale', 'auto', 0.01, 0.1, 1, 10, 100],  # For rbf and sigmoid kernels\n",
    "    'coef0': [0.0, 0.1, 0.5, 1.0, 5.0]  # For poly and sigmoid kernels\n",
    "}\n",
    "\n",
    "# Perform grid search using accuracy as the scoring metric\n",
    "grid_search_pca = GridSearchCV(svm_model, param_grid, cv=5, scoring='accuracy')\n",
    "\n",
    "# Train the model with grid search on data with reduced dimensions\n",
    "grid_search_pca.fit(X_train_pca, y_train)\n",
    "\n",
    "# Calculate accuracy on the test set\n",
    "best_model_pca = grid_search_pca.best_estimator_\n",
    "test_accuracy_pca = best_model_pca.score(X_test_pca, y_test)\n",
    "\n",
    "print(\"Best parameters with PCA:\", grid_search_pca.best_params_)\n",
    "print(\"Model accuracy on test set with PCA:\", test_accuracy_pca * 100)\n"
   ],
   "metadata": {
    "collapsed": false,
    "pycharm": {
     "name": "#%%\n"
    }
   }
  }
 ],
 "metadata": {
  "kernelspec": {
   "display_name": "Python 3",
   "language": "python",
   "name": "python3"
  },
  "language_info": {
   "codemirror_mode": {
    "name": "ipython",
    "version": 2
   },
   "file_extension": ".py",
   "mimetype": "text/x-python",
   "name": "python",
   "nbconvert_exporter": "python",
   "pygments_lexer": "ipython2",
   "version": "2.7.6"
  }
 },
 "nbformat": 4,
 "nbformat_minor": 0
}